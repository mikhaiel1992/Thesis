{
 "cells": [
  {
   "cell_type": "markdown",
   "metadata": {},
   "source": [
    "# Case 1 (DSWE)"
   ]
  },
  {
   "cell_type": "code",
   "execution_count": null,
   "metadata": {},
   "outputs": [],
   "source": [
    "import numpy as np\n",
    "import FINE as fn\n",
    "import pandas as pd\n",
    "import os\n",
    "import re as re\n",
    "import glob\n",
    "import xarray\n",
    "import geopandas as gdp\n",
    "import matplotlib.pyplot as plt\n",
    "\n",
    "cwd = os.getcwd()\n",
    "\n",
    "from getData import getData\n",
    "\n",
    "data = getData()\n",
    "\n",
    "%matplotlib inline  \n",
    "%load_ext autoreload\n",
    "%autoreload 2\n"
   ]
  },
  {
   "cell_type": "code",
   "execution_count": null,
   "metadata": {},
   "outputs": [],
   "source": [
    "# Input files\n",
    "path=r'C:\\Users\\user\\Desktop\\Python\\Fine-master\\My Model\\Final Code\\InputData'"
   ]
  },
  {
   "cell_type": "code",
   "execution_count": null,
   "metadata": {},
   "outputs": [],
   "source": [
    "names_of_scenarios=['Combined']\n",
    "print(names_of_scenarios)\n",
    "\n",
    "for scenario in names_of_scenarios:\n",
    "    print('##', scenario)\n",
    "  #  fnameFile.write('{}\\n'.format(scenario))\n",
    "    \n",
    "    if scenario == 'DSWE':\n",
    "        DSWE = True\n",
    "        AWE = False\n",
    "        desalination = False\n",
    "        electricity_transmission = True\n",
    "        electricity_demand = True\n",
    "        brine_disposal = True\n",
    "        H2_pipline = True \n",
    "        H2_demand = True\n",
    "        desalinated_water_pipeline = False     \n",
    "                    \n",
    "    elif scenario == 'AWE':\n",
    "        DSWE = False\n",
    "        AWE = True\n",
    "        desalination = True\n",
    "        electricity_transmission = True\n",
    "        electricity_demand = True\n",
    "        brine_disposal = True\n",
    "        H2_pipline = True \n",
    "        H2_demand = True\n",
    "        desalinated_water_pipeline = True\n",
    "        \n",
    "    elif scenario == 'Combined':\n",
    "        DSWE = True\n",
    "        AWE = True\n",
    "        desalination = True\n",
    "        electricity_transmission = True\n",
    "        electricity_demand = True\n",
    "        brine_disposal = True\n",
    "        H2_pipline = True \n",
    "        H2_demand = True\n",
    "        desalinated_water_pipeline = True\n",
    "                            \n",
    "                                        \n",
    "    print('Modelling', scenario, \"scenario with:\")\n",
    "    print('DSWE =', DSWE)\n",
    "    print('AWE =', AWE)\n",
    "    print('desalination =', desalination)\n",
    "    print('electricity transmission =', electricity_transmission)\n",
    "    print('electricity demand =', electricity_demand)\n",
    "    print('H2 pipline =', H2_pipline)\n",
    "    print('H2 demand =', H2_demand)\n",
    "    print('desalinated water pipeline =', desalinated_water_pipeline)"
   ]
  },
  {
   "cell_type": "code",
   "execution_count": null,
   "metadata": {},
   "outputs": [],
   "source": [
    "locations = ['location1', 'location3', 'location4', 'location3_4', 'location5', 'location3_5', 'location6', 'location7', \n",
    "             'location8', 'location9', 'location10', 'location11', 'location12', 'location13', 'location15', 'location16',\n",
    "             'location1_16', 'location17', 'location18', 'location19', 'location20', 'location1_20', 'location21',\n",
    "             'location22', 'location23', 'location25', 'location26', 'location27', 'location2_70', 'location2_71', \n",
    "             'location2_81', 'location3_100', 'location3_101', 'location3_104', 'location3_106', 'location3_107', \n",
    "             'location3_103', 'location3_102']\n",
    "\n",
    "commodities = {'electricity', 'hydrogen', 'seawater', 'brine', 'freshwater'}\n",
    "\n",
    "commodityUnitsDict={'electricity': 'GW_el', 'hydrogen': 'GW_GH2', 'seawater' : 'Mm3', \n",
    "                    'brine' : 'Mm3', 'freshwater' : 'Mm3'}\n",
    "\n",
    "esM = fn.EnergySystemModel(locations=set(locations), \n",
    "                           commodities=commodities,\n",
    "                           numberOfTimeSteps=8760,\n",
    "                           commodityUnitsDict=commodityUnitsDict,\n",
    "                           hoursPerTimeStep=1, \n",
    "                           costUnit='1e9 Euro', \n",
    "                           lengthUnit='km', \n",
    "                           verboseLogLevel=0)"
   ]
  },
  {
   "cell_type": "code",
   "execution_count": null,
   "metadata": {},
   "outputs": [],
   "source": [
    "# Regions on the coasts\n",
    "eligibility = pd.Series([1, 1, 0, 0, 0, 0, 1, 0, 0, 0, 0, 0, 0, 0, 1, 0, 1, 0, 0, 0, 1, 1, 1, 1, 1, 0, 1, 0, 0, 1, \n",
    "                             0, 0, 0, 0, 0, 0, 0, 0], index=locations)"
   ]
  },
  {
   "cell_type": "code",
   "execution_count": null,
   "metadata": {},
   "outputs": [],
   "source": [
    "eligibility"
   ]
  },
  {
   "cell_type": "markdown",
   "metadata": {},
   "source": [
    "## Source"
   ]
  },
  {
   "cell_type": "markdown",
   "metadata": {},
   "source": [
    "### PV"
   ]
  },
  {
   "cell_type": "code",
   "execution_count": null,
   "metadata": {},
   "outputs": [],
   "source": [
    "esM.add(fn.Source(esM=esM, \n",
    "                  name='PV', \n",
    "                  commodity='electricity',\n",
    "                  hasCapacityVariable=True,\n",
    "                  operationRateMax=data['PV, operationRateMax'],\n",
    "                  capacityMax=data['PV, capacityMax'],\n",
    "                  investPerCapacity=0.52,            # 520€/kw = 0.5billion€/GW\n",
    "                  opexPerCapacity=0.52 *.017,        # 1.7% of invest\n",
    "                  interestRate=0.08,\n",
    "                  economicLifetime=25))"
   ]
  },
  {
   "cell_type": "markdown",
   "metadata": {},
   "source": [
    "### Full Load Hours"
   ]
  },
  {
   "cell_type": "code",
   "execution_count": null,
   "metadata": {},
   "outputs": [],
   "source": [
    "data['PV, operationRateMax'].sum()"
   ]
  },
  {
   "cell_type": "markdown",
   "metadata": {},
   "source": [
    "### Seawater"
   ]
  },
  {
   "cell_type": "code",
   "execution_count": null,
   "metadata": {},
   "outputs": [],
   "source": [
    "esM.add(fn.Source(esM=esM, \n",
    "                  name='Seawater', \n",
    "                  commodity='seawater',\n",
    "                  hasCapacityVariable=False,\n",
    "                  locationalEligibility=eligibility\n",
    "                 ))"
   ]
  },
  {
   "cell_type": "markdown",
   "metadata": {},
   "source": [
    "## Conversion"
   ]
  },
  {
   "cell_type": "markdown",
   "metadata": {},
   "source": [
    "### DSW Electrolyzer"
   ]
  },
  {
   "cell_type": "code",
   "execution_count": null,
   "metadata": {},
   "outputs": [],
   "source": [
    "AWE_investPerCapacity = 1\n",
    "desalination_investPerCapacity = 6.405    # BEuro/GW\n",
    "desalinatedWater = 327868.85              # amount of desalinated water in m3 for 1 GW_el\n",
    "lifetime_desalination = 30      \n",
    "process = 0.27                           # 27% of desalination cost for intake, pretreatment and brine disposal\n",
    "freshWaterRecovery = 0.45                # 45%\n",
    "\n",
    "x = [6.405, 8.380, 11.574]\n",
    "y = [327868.8525, 316455.6962, 253164.557]\n",
    "\n",
    "for i in [1.139, 1.139*1.2, 1.139*1.4]:\n",
    "    DSWE_investPerCapacity = i\n",
    "    print(i)\n",
    "    \n",
    "    for j, k in zip(x, y):\n",
    "        desalination_investPerCapacity = j\n",
    "        desalinatedWater = k\n",
    "            \n",
    "        if DSWE == True:\n",
    "            capacityMax_DSWE = pd.read_excel(path + '\\maxCapacity_DSWE.xlsx', index_col=0, squeeze=True)\n",
    "            esM.add(fn.Conversion(esM=esM, \n",
    "                          name='DSW_Electrolyzer', \n",
    "                          physicalUnit='GW_el',\n",
    "                          commodityConversionFactors={'electricity':-1, 'hydrogen':0.64, # LHV\n",
    "                                                      'seawater':-172.82/(freshWaterRecovery*1000000), \n",
    "                                                      'brine':172.82/((1-freshWaterRecovery*1000000))}, \n",
    "                          hasCapacityVariable=True, \n",
    "                          locationalEligibility=eligibility,\n",
    "                          investPerCapacity=(DSWE_investPerCapacity+(process*desalination_investPerCapacity)), \n",
    "                          opexPerCapacity=(DSWE_investPerCapacity+(process*desalination_investPerCapacity))*0.025, \n",
    "                          #capacityMax=capacityMax_DSWE,   # 5 MW based on production rate = 760 m3_H2/h and 6.6 kWh_el/m3\n",
    "                          interestRate=0.08,\n",
    "                          economicLifetime=10))\n",
    "            \n",
    "        if AWE == True:\n",
    "            esM.add(fn.Conversion(esM=esM, \n",
    "                          name='AW_Electrolyzer', \n",
    "                          physicalUnit='GW_el',\n",
    "                          commodityConversionFactors={'electricity':-1, 'hydrogen':0.65, # LHV\n",
    "                                                      'freshwater':-175.52/1000000}, \n",
    "                          hasCapacityVariable=True,\n",
    "                          investPerCapacity=AWE_investPerCapacity,\n",
    "                          opexPerCapacity=AWE_investPerCapacity*0.025,\n",
    "                          #capacityMax=0.005,   # 5 MW based on production rate = 760 m3_H2/h and 6.6 kWh_el/m3\n",
    "                          interestRate=0.08,\n",
    "                          economicLifetime=10))\n",
    "                \n",
    "        if desalination == True:\n",
    "            capacityMax_Desalination = pd.read_excel(path + '\\maxCapacity_Desalination.xlsx', index_col=0, squeeze=True)\n",
    "            esM.add(fn.Conversion(esM=esM, \n",
    "                          name='Desalination plant', \n",
    "                          physicalUnit='GW_el',\n",
    "                          commodityConversionFactors={'electricity':-1, 'freshwater':desalinatedWater/1000000,\n",
    "                                                      'seawater':-desalinatedWater/(freshWaterRecovery*1000000), \n",
    "                                                      'brine':(desalinatedWater*(1-freshWaterRecovery))/(freshWaterRecovery*1000000)}, \n",
    "                          hasCapacityVariable=True, \n",
    "                          locationalEligibility=eligibility,\n",
    "                          investPerCapacity=desalination_investPerCapacity,        \n",
    "                          opexPerCapacity=desalination_investPerCapacity*0.04,  \n",
    "                          #capacityMax=capacityMax_Desalination,   # 6.7 MW based on production rate = 40000 m3/day and 4 kWh_el/m3\n",
    "                          interestRate=0.08, \n",
    "                          economicLifetime=lifetime_desalination))\n",
    "            \n",
    "            # Transmission between locations Eligibility \n",
    "        eligibility_transmission = pd.read_excel(path + \"\\Eligibility_Transmission.xlsx\", \n",
    "                                         index_col=0, header=0)\n",
    "        distances_transmission = pd.read_excel(path + \"\\Matrix Distance_Transmission.xlsx\", \n",
    "                                       index_col=0, header=0)\n",
    "        detour_factor = 1.3\n",
    "            \n",
    "            \n",
    "            ### Check Again ###\n",
    "        if electricity_transmission == True:\n",
    "            capex_electricGrid = 0.0014125 # 1412.5 €/MW/km for 2020 [ETRI2014] Powerfactor = 0.8 \n",
    "            esM.add(fn.Transmission(esM=esM, \n",
    "                        name='Electric grid', \n",
    "                        commodity='electricity', \n",
    "                        hasCapacityVariable=True,\n",
    "                        #capacityFix=capacityFix,\n",
    "                        locationalEligibility=eligibility_transmission,\n",
    "                        distances=distances_transmission*detour_factor, \n",
    "                        #losses=0.00001,\n",
    "                        investPerCapacity= capex_electricGrid,\n",
    "                        opexPerCapacity=capex_electricGrid*0.015,\n",
    "                        interestRate=0.08,\n",
    "                        economicLifetime=60\n",
    "                           ))\n",
    "                \n",
    "        if desalination == True:\n",
    "            capex_waterPipelines = 0.000053                     # 0.053 €/(m3·a·km)\n",
    "            opex_waterPipelines = (0.00000023+(0.02*0.01923))   # 0.023 €/(m3·a·100 km) + 2% of 19.23 €/(m3·h·km) pumping\n",
    "            esM.add(fn.Transmission(esM=esM, \n",
    "                            name='Water pipelines', \n",
    "                            commodity='freshwater',\n",
    "                            distances=distances_transmission*detour_factor, \n",
    "                            hasCapacityVariable=True, \n",
    "                            locationalEligibility=eligibility_transmission,\n",
    "                            #capacityMax=eligibility_transmission*15,   #New\n",
    "                            investPerCapacity=capex_waterPipelines,\n",
    "                            opexPerCapacity=opex_waterPipelines,\n",
    "                            interestRate=0.08, \n",
    "                            economicLifetime=50))\n",
    "                \n",
    "        if H2_pipline == True:\n",
    "            esM.add(fn.Transmission(esM=esM, \n",
    "                            name='H2 pipelines', \n",
    "                            commodity='hydrogen',\n",
    "                            distances=distances_transmission*detour_factor, \n",
    "                            hasCapacityVariable=True, \n",
    "                            locationalEligibility=eligibility_transmission,\n",
    "                            capacityMax=eligibility_transmission*15,   #New\n",
    "                            investPerCapacity=0.000185, \n",
    "                            opexPerCapacity=1e-6,\n",
    "                            interestRate=0.08, \n",
    "                            economicLifetime=40))\n",
    "                \n",
    "        if electricity_demand == True:\n",
    "            esM.add(fn.Storage(esM=esM, name='Li-ion batteries', \n",
    "                       commodity='electricity', \n",
    "                       hasCapacityVariable=True,\n",
    "                       chargeEfficiency=0.95, \n",
    "                       cyclicLifetime=10000, \n",
    "                       dischargeEfficiency=0.95, \n",
    "                       selfDischarge=1-(1-0.03)**(1/(30*24)), \n",
    "                       chargeRate=1, \n",
    "                       dischargeRate=1, \n",
    "                       investPerCapacity=0.151, \n",
    "                       opexPerCapacity=0.151*0.01, \n",
    "                       interestRate=0.08,\n",
    "                       economicLifetime=22))\n",
    "                \n",
    "        if desalination == True:\n",
    "                #operationRateFix_freshwater = pd.read_excel(path + \"/Freshwater Demand/freshwater_operationRateFix.xlsx\", \n",
    "    #                                            index_col=0, header=0)\n",
    "            esM.add(fn.Sink(esM=esM, \n",
    "                                name='Water demand', \n",
    "                                commodity='freshwater', \n",
    "                                hasCapacityVariable=False,\n",
    "                                #operationRateFix=operationRateFix_freshwater\n",
    "                               ))\n",
    "        \n",
    "        # Export at location 23 & 1_20\n",
    "\n",
    "        eligibility_export = pd.Series([0, 0, 0, 0, 0, 0, 0, 0, 0, 0, 0, 0, 0, 0, 0, 0, 0, 0, 0, 0, 0, 1, 0, 0, 1, 0, 0, 0, 0, 0, \n",
    "                                0, 0, 0, 0, 0, 0, 0, 0], index=locations)\n",
    "        if H2_demand == True:\n",
    "            operationRateFix_hydrogen = pd.read_excel(path + \"\\Hydrogen Demand\\hydrogen_operationRateFix.xlsx\", \n",
    "                                              index_col=0, header=0)\n",
    "            esM.add(fn.Sink(esM=esM, \n",
    "                    name='H2 demand', \n",
    "                    commodity='hydrogen', \n",
    "                    hasCapacityVariable=False,\n",
    "                    #locationalEligibility=eligibility_export,\n",
    "                    #commodityRevenue=0.5,\n",
    "                    operationRateFix=operationRateFix_hydrogen\n",
    "                   ))\n",
    "                \n",
    "        if brine_disposal == True:\n",
    "            esM.add(fn.Sink(esM=esM, \n",
    "                    name='brine disposal', \n",
    "                    commodity='brine', \n",
    "                    locationalEligibility=eligibility,\n",
    "                    hasCapacityVariable=False))\n",
    "            \n",
    "        esM.cluster(numberOfTypicalPeriods=7, numberOfTimeStepsPerPeriod=8)\n",
    "            \n",
    "        esM.optimize(timeSeriesAggregation=True, optimizationSpecs='LogToConsole=1 OptimalityTol=1e-6', solver='gurobi')\n",
    "            \n",
    "        df_1 = esM.getOptimizationSummary(\"SourceSinkModel\", outputLevel=0)\n",
    "        df1=pd.DataFrame(df_1)\n",
    "        df1.to_excel(r'C:\\Users\\user\\Desktop\\Python\\Fine-master\\My Model\\Final Code\\Results\\Combined\\SourceSink_Combined_{}_{}_{}.xlsx'.format(i,j,k))\n",
    "    \n",
    "        df_2 = esM.getOptimizationSummary(\"TransmissionModel\", outputLevel=0)\n",
    "        df2=pd.DataFrame(df_2)\n",
    "        df2.to_excel(r'C:\\Users\\user\\Desktop\\Python\\Fine-master\\My Model\\Final Code\\Results\\Combined\\TransmissionModel_Combined_{}_{}_{}.xlsx'.format(i,j,k))\n",
    "    \n",
    "        df_3=esM.getOptimizationSummary(\"ConversionModel\", outputLevel=0)\n",
    "        df3=pd.DataFrame(df_3)\n",
    "        df3.to_excel(r'C:\\Users\\user\\Desktop\\Python\\Fine-master\\My Model\\Final Code\\Results\\Combined\\ConversionModel_Combined_{}_{}_{}.xlsx'.format(i,j,k))\n",
    "\n",
    "        df_4=esM.getOptimizationSummary(\"StorageModel\", outputLevel=0)\n",
    "        df4=pd.DataFrame(df_4)\n",
    "        df4.to_excel(r'C:\\Users\\user\\Desktop\\Python\\Fine-master\\My Model\\Final Code\\Results\\Combined\\StorageModel_Combined_{}_{}_{}.xlsx'.format(i,j,k))"
   ]
  },
  {
   "cell_type": "markdown",
   "metadata": {},
   "source": [
    "## Results"
   ]
  },
  {
   "cell_type": "code",
   "execution_count": null,
   "metadata": {},
   "outputs": [],
   "source": [
    "esM.getOptimizationSummary(\"SourceSinkModel\", outputLevel=2)"
   ]
  },
  {
   "cell_type": "code",
   "execution_count": null,
   "metadata": {},
   "outputs": [],
   "source": [
    "esM.getOptimizationSummary(\"StorageModel\", outputLevel=2)"
   ]
  },
  {
   "cell_type": "code",
   "execution_count": null,
   "metadata": {},
   "outputs": [],
   "source": [
    "esM.getOptimizationSummary(\"ConversionModel\", outputLevel=2)"
   ]
  },
  {
   "cell_type": "code",
   "execution_count": null,
   "metadata": {},
   "outputs": [],
   "source": [
    "esM.getOptimizationSummary(\"TransmissionModel\", outputLevel=0)"
   ]
  },
  {
   "cell_type": "markdown",
   "metadata": {},
   "source": [
    "## Output"
   ]
  },
  {
   "cell_type": "code",
   "execution_count": null,
   "metadata": {},
   "outputs": [],
   "source": [
    "if scenario == 'DSWE':\n",
    "    \n",
    "    df_1 = esM.getOptimizationSummary(\"SourceSinkModel\", outputLevel=0)\n",
    "    df1=pd.DataFrame(df_1)\n",
    "    df1.to_excel(r'C:\\Users\\user\\Desktop\\Python\\Fine-master\\My Model\\Final Code\\Results\\DSWE_1\\SourceSink_DSW_1.xlsx')\n",
    "    \n",
    "    df_2 = esM.getOptimizationSummary(\"TransmissionModel\", outputLevel=0)\n",
    "    df2=pd.DataFrame(df_2)\n",
    "    df2.to_excel(r'C:\\Users\\user\\Desktop\\Python\\Fine-master\\My Model\\Final Code\\Results\\DSWE_1\\TransmissionModel_DSW_1.xlsx')\n",
    "    \n",
    "    df_3=esM.getOptimizationSummary(\"ConversionModel\", outputLevel=0)\n",
    "    df3=pd.DataFrame(df_3)\n",
    "    df3.to_excel(r'C:\\Users\\user\\Desktop\\Python\\Fine-master\\My Model\\Final Code\\Results\\DSWE_1\\ConversionModel_DSW_1.xlsx')\n",
    "    \n",
    "    df_4=esM.getOptimizationSummary(\"StorageModel\", outputLevel=0)\n",
    "    df4=pd.DataFrame(df_4)\n",
    "    df4.to_excel(r'C:\\Users\\user\\Desktop\\Python\\Fine-master\\My Model\\Final Code\\Results\\DSWE_1\\StorageModel_DSW_1.xlsx')\n",
    "\n",
    "elif scenario == 'AWE':\n",
    "    \n",
    "    df_1 = esM.getOptimizationSummary(\"SourceSinkModel\", outputLevel=0)\n",
    "    df1=pd.DataFrame(df_1)\n",
    "    df1.to_excel(r'C:\\Users\\user\\Desktop\\Python\\Fine-master\\My Model\\Final Code\\Results\\AWE\\SourceSink_AWE.xlsx')\n",
    "    \n",
    "    df_2 = esM.getOptimizationSummary(\"TransmissionModel\", outputLevel=0)\n",
    "    df2=pd.DataFrame(df_2)\n",
    "    df2.to_excel(r'C:\\Users\\user\\Desktop\\Python\\Fine-master\\My Model\\Final Code\\Results\\AWE\\TransmissionModel_AWE.xlsx')\n",
    "    \n",
    "    df_3=esM.getOptimizationSummary(\"ConversionModel\", outputLevel=0)\n",
    "    df3=pd.DataFrame(df_3)\n",
    "    df3.to_excel(r'C:\\Users\\user\\Desktop\\Python\\Fine-master\\My Model\\Final Code\\Results\\AWE\\ConversionModel_AWE.xlsx')\n",
    "    \n",
    "    df_4=esM.getOptimizationSummary(\"StorageModel\", outputLevel=0)\n",
    "    df4=pd.DataFrame(df_4)\n",
    "    df4.to_excel(r'C:\\Users\\user\\Desktop\\Python\\Fine-master\\My Model\\Final Code\\Results\\AWE\\StorageModel_AWE.xlsx')\n",
    "\n",
    "elif scenario == 'Combined':\n",
    "    \n",
    "    "
   ]
  },
  {
   "cell_type": "code",
   "execution_count": null,
   "metadata": {
    "scrolled": true
   },
   "outputs": [],
   "source": [
    "locFilePath = os.path.join(cwd, 'InputData', 'Regions_Egypt','EG_38_Regions.shp')\n",
    "fig, ax = fn.plotLocations(locFilePath, plotLocNames=True, indexColumn='GID_1', crs='epsg:22993', fontsize=9, \n",
    "                           figsize=(9, 9), save=True, fileName='Regions', dpi=500, edgeColor='blue', linewidth=0.75)"
   ]
  },
  {
   "cell_type": "code",
   "execution_count": 1,
   "metadata": {},
   "outputs": [
    {
     "ename": "NameError",
     "evalue": "name 'os' is not defined",
     "output_type": "error",
     "traceback": [
      "\u001b[1;31m---------------------------------------------------------------------------\u001b[0m",
      "\u001b[1;31mNameError\u001b[0m                                 Traceback (most recent call last)",
      "\u001b[1;32m<ipython-input-1-889fe44ec784>\u001b[0m in \u001b[0;36m<module>\u001b[1;34m\u001b[0m\n\u001b[1;32m----> 1\u001b[1;33m \u001b[0mlocFilePath_PV\u001b[0m \u001b[1;33m=\u001b[0m \u001b[0mos\u001b[0m\u001b[1;33m.\u001b[0m\u001b[0mpath\u001b[0m\u001b[1;33m.\u001b[0m\u001b[0mjoin\u001b[0m\u001b[1;33m(\u001b[0m\u001b[0mcwd\u001b[0m\u001b[1;33m,\u001b[0m \u001b[1;34m'InputData'\u001b[0m\u001b[1;33m,\u001b[0m \u001b[1;34m'Regions_Egypt'\u001b[0m\u001b[1;33m,\u001b[0m\u001b[1;34m'EG_38_Regions_location.shp'\u001b[0m\u001b[1;33m)\u001b[0m\u001b[1;33m\u001b[0m\u001b[1;33m\u001b[0m\u001b[0m\n\u001b[0m\u001b[0;32m      2\u001b[0m \u001b[0mfig\u001b[0m\u001b[1;33m,\u001b[0m \u001b[0max\u001b[0m \u001b[1;33m=\u001b[0m \u001b[0mfn\u001b[0m\u001b[1;33m.\u001b[0m\u001b[0mplotLocationalColorMap\u001b[0m\u001b[1;33m(\u001b[0m\u001b[0mesM\u001b[0m\u001b[1;33m,\u001b[0m \u001b[1;34m'PV'\u001b[0m\u001b[1;33m,\u001b[0m \u001b[0mlocFilePath_PV\u001b[0m\u001b[1;33m,\u001b[0m \u001b[0mindexColumn\u001b[0m\u001b[1;33m=\u001b[0m\u001b[1;34m'GID_1'\u001b[0m\u001b[1;33m,\u001b[0m \u001b[0mcrs\u001b[0m\u001b[1;33m=\u001b[0m\u001b[1;34m'epsg:22993'\u001b[0m\u001b[1;33m,\u001b[0m \u001b[0mperArea\u001b[0m\u001b[1;33m=\u001b[0m\u001b[1;32mFalse\u001b[0m\u001b[1;33m)\u001b[0m\u001b[1;33m\u001b[0m\u001b[1;33m\u001b[0m\u001b[0m\n",
      "\u001b[1;31mNameError\u001b[0m: name 'os' is not defined"
     ]
    }
   ],
   "source": [
    "locFilePath_PV = os.path.join(cwd, 'InputData', 'Regions_Egypt','EG_38_Regions_location.shp')\n",
    "fig, ax = fn.plotLocationalColorMap(esM, 'PV', locFilePath_PV, indexColumn='GID_1', crs='epsg:22993', perArea=False)"
   ]
  },
  {
   "cell_type": "code",
   "execution_count": null,
   "metadata": {},
   "outputs": [],
   "source": [
    "fig, ax = fn.plotLocationalColorMap(esM, 'AW_Electrolyzer', locFilePath_PV, 'GID_1', perArea=False)"
   ]
  },
  {
   "cell_type": "code",
   "execution_count": null,
   "metadata": {},
   "outputs": [],
   "source": [
    "fig, ax = fn.plotOperationColorMap(esM, 'Li-ion batteries', 'location10', \n",
    "                                   variableName='stateOfChargeOperationVariablesOptimum')"
   ]
  },
  {
   "cell_type": "code",
   "execution_count": null,
   "metadata": {},
   "outputs": [],
   "source": []
  }
 ],
 "metadata": {
  "kernelspec": {
   "display_name": "Python 3",
   "language": "python",
   "name": "python3"
  },
  "language_info": {
   "codemirror_mode": {
    "name": "ipython",
    "version": 3
   },
   "file_extension": ".py",
   "mimetype": "text/x-python",
   "name": "python",
   "nbconvert_exporter": "python",
   "pygments_lexer": "ipython3",
   "version": "3.7.6"
  }
 },
 "nbformat": 4,
 "nbformat_minor": 4
}
